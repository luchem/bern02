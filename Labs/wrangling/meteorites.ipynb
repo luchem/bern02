{
 "cells": [
  {
   "cell_type": "markdown",
   "id": "159d6c1d-2252-4371-afcb-d30e09ead8a3",
   "metadata": {},
   "source": [
    "# Meteorite Landings\n",
    "\n",
    "In this example, we explore a database of recorded\n",
    "[meteorite landings from NASA](https://catalog.data.gov/dataset/meteorite-landings).\n",
    "The database contains geolocations of the reported landings, as well as weight information\n",
    "of the meteorites.\n",
    "\n",
    "We will touch on the following topics:\n",
    "\n",
    "- CSV file loading\n",
    "- Handling of geospatial data using `geopandas`\n",
    "- Database operations using Pandas\n",
    "- World map overlays\n",
    "\n",
    "## Useful links\n",
    "\n",
    "- Geoplot: https://residentmario.github.io/geoplot/quickstart/quickstart.html\n",
    "- Geopandas: https://geopandas.org/en/stable/getting_started/introduction.html\n",
    "\n",
    "## Requirements\n",
    "\n",
    "- Install `geopandas`, `geoplot`, `lxml` with `conda` or `pip`"
   ]
  },
  {
   "cell_type": "code",
   "execution_count": null,
   "id": "fee369fb-1f2a-4f78-83ea-96ee100d3ac6",
   "metadata": {},
   "outputs": [],
   "source": [
    "%matplotlib inline\n",
    "import matplotlib\n",
    "import numpy as np\n",
    "import matplotlib.pyplot as plt\n",
    "import pandas as pd\n",
    "import geopandas as gpd\n",
    "import geoplot as gplt\n",
    "import geoplot.crs as gcrs\n",
    "from shapely.geometry import Point"
   ]
  },
  {
   "cell_type": "markdown",
   "id": "46fa9c4e-b75c-4972-a074-ee1440e0a8b0",
   "metadata": {},
   "source": [
    "# Load Comma Separated Values\n",
    "\n",
    "## Task\n",
    "Some rows in the table contain non-a-number or \"NaN\" values. Remove all such rows."
   ]
  },
  {
   "cell_type": "code",
   "execution_count": null,
   "id": "75a674ef-3850-4a78-8220-73fcd2bd11dc",
   "metadata": {},
   "outputs": [],
   "source": [
    "df = pd.read_csv(\"Meteorite_Landings.csv\")\n",
    "df.tail()"
   ]
  },
  {
   "cell_type": "markdown",
   "id": "cbbc4f70-5c8d-4147-8054-d83dfb4a1faf",
   "metadata": {},
   "source": [
    "## Convert to `GeoDataFrame`\n",
    "\n",
    "Let's do a bit of data wrangling and convert to a `GeoDataFrame` which is convenient for plotting on a map.\n",
    "GeoPandas requires the location to be in a `geometry` column - see documentation.\n",
    "\n",
    "### Task\n",
    "After creating the `geometry` column, the columns `reclat`, `reclong`m and `GeoLocation` are\n",
    "   no longer needed. Delete them."
   ]
  },
  {
   "cell_type": "code",
   "execution_count": null,
   "id": "440a2e31-8cb5-4fb1-a648-e2285630af37",
   "metadata": {},
   "outputs": [],
   "source": [
    "if not 'gdf' in locals(): # do this only if `gdf` has not yet been defined \n",
    "    df = df.assign(geometry=[Point(xy) for xy in zip(df['reclong'], df['reclat'])])\n",
    "    gdf = gpd.GeoDataFrame(df, geometry='geometry')\n",
    "gdf.tail()"
   ]
  },
  {
   "cell_type": "markdown",
   "id": "3168b823-18e5-4744-b6c8-8205601d0385",
   "metadata": {},
   "source": [
    "# Plot on top of world map\n",
    "\n",
    "## Task\n",
    "1. Change the plot so that the size and color of the landing points reflect the meteorite mass.\n",
    "2. Filter the data so that only meteorites weighing 10 kg or more are plotted."
   ]
  },
  {
   "cell_type": "code",
   "execution_count": null,
   "id": "fbaa1459-4d34-4cbf-af38-2b3bff5eb0d8",
   "metadata": {},
   "outputs": [],
   "source": [
    "ax = gplt.webmap(gdf, projection=gcrs.WebMercator(), figsize=(10, 10));\n",
    "gplt.pointplot(gdf, ax=ax);\n",
    "ax.set_title('Meteorite Landings');"
   ]
  }
 ],
 "metadata": {
  "kernelspec": {
   "display_name": "Python 3 (ipykernel)",
   "language": "python",
   "name": "python3"
  },
  "language_info": {
   "codemirror_mode": {
    "name": "ipython",
    "version": 3
   },
   "file_extension": ".py",
   "mimetype": "text/x-python",
   "name": "python",
   "nbconvert_exporter": "python",
   "pygments_lexer": "ipython3",
   "version": "3.10.14"
  }
 },
 "nbformat": 4,
 "nbformat_minor": 5
}
